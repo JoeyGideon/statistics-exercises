{
 "cells": [
  {
   "attachments": {},
   "cell_type": "markdown",
   "metadata": {},
   "source": [
    "For each of the following questions, formulate a null and alternative hypothesis (be as specific as you can be), then give an example of what a true positive, true negative, type I and type II errors would look like. Note that some of the questions are intentionally phrased in a vague way. It is your job to reword these as more precise questions that could be tested.\n",
    "\n",
    "\n",
    "\n",
    "\n"
   ]
  },
  {
   "cell_type": "code",
   "execution_count": null,
   "metadata": {},
   "outputs": [],
   "source": [
    "# Has the network latency gone up(Ha) or stayed the same(Ho) since we switched internet service providers? \n",
    "# True positve would say that latency has gone up and it truly has\n",
    "# True negitive would say that letency has gone down an it truly has\n",
    "# would say the latency has gone up but it hasn't  (Type 1) \n",
    "# would say the lateency has not gone up but it has (Type 2)"
   ]
  },
  {
   "cell_type": "code",
   "execution_count": null,
   "metadata": {},
   "outputs": [],
   "source": [
    "# Is the website redesign any good? \n",
    "# Has the website click thrus increased(Ha) or stayed the same(Ho) since the website was redesigned?\n",
    "# True positve would say that website clicks have increased since the website was redesigned and it truly has\n",
    "# True negitive would say that website clicks have decreased and truly has since the redesign\n",
    "# would say the clicks have increased but have not   (Type 1) \n",
    "# would say the clicks have decreased but have not  (Type 2)\n"
   ]
  },
  {
   "cell_type": "code",
   "execution_count": null,
   "metadata": {},
   "outputs": [],
   "source": [
    "# Is our television ad driving more sales?\n",
    "# Have we had more sales (Ha) since we released our tv ad or have they stayed the same(Ho)?\n",
    "# True positve would say that we have had more sales since the tv ad was released and we truly have\n",
    "# True negitive would say that we haven't had more sales since the tv ad was released and we truly haven't\n",
    "# would say the sales have gone up and they haven't   (Type 1) \n",
    "# would say the sales havn't gone up and they have (Type 2)"
   ]
  }
 ],
 "metadata": {
  "language_info": {
   "name": "python"
  },
  "orig_nbformat": 4
 },
 "nbformat": 4,
 "nbformat_minor": 2
}
