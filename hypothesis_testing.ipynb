{
 "cells": [
  {
   "attachments": {},
   "cell_type": "markdown",
   "metadata": {},
   "source": [
    "For each of the following questions, formulate a null and alternative hypothesis (be as specific as you can be), then give an example of what a true positive, true negative, type I and type II errors would look like. Note that some of the questions are intentionally phrased in a vague way. It is your job to reword these as more precise questions that could be tested."
   ]
  },
  {
   "attachments": {},
   "cell_type": "markdown",
   "metadata": {},
   "source": [
    " Has the network latency gone up(Ha) or stayed the same(Ho) since we switched internet service providers? \n",
    " \n",
    " True positve would say that latency has gone up and it truly has\n",
    " True negitive would say that letency has gone down an it truly has\n",
    " would say the latency has gone up but it hasn't  (Type 1) \n",
    " would say the lateency has not gone up but it has (Type 2)"
   ]
  },
  {
   "attachments": {},
   "cell_type": "markdown",
   "metadata": {},
   "source": [
    "Is the website redesign any good? \n",
    "\n",
    " Has the website click thrus increased(Ha) or stayed the same(Ho) since the website was redesigned?\n",
    " True positve would say that website clicks have increased since the website was redesigned and it truly has\n",
    " True negitive would say that website clicks have decreased and truly has since the redesign\n",
    " would say the clicks have increased but have not   (Type 1) \n",
    " would say the clicks have decreased but have not  (Type 2)\n"
   ]
  },
  {
   "attachments": {},
   "cell_type": "markdown",
   "metadata": {},
   "source": [
    "Is our television ad driving more sales?\n",
    "\n",
    "Have we had more sales (Ha) since we released our tv ad or have they stayed the same(Ho)?\n",
    "True positve would say that we have had more sales since the tv ad was released and we truly have\n",
    "True negitive would say that we haven't had more sales since the tv ad was released and we truly haven't\n",
    "would say the sales have gone up and they haven't   (Type 1) \n",
    "would say the sales havn't gone up and they have (Type 2)"
   ]
  },
  {
   "attachments": {},
   "cell_type": "markdown",
   "metadata": {},
   "source": [
    "Answer with the type of test you would use (assume normal distribution):\n",
    "Is there a difference in grades of students on the second floor compared to grades of all students?\n",
    "\n",
    "A two-sample t-test would be a suitable test in this case. The null hypothesis would be that there is \n",
    "no significant difference in grades between the students on the second floor and all students.\n"
   ]
  },
  {
   "attachments": {},
   "cell_type": "markdown",
   "metadata": {},
   "source": [
    " Are adults who drink milk taller than adults who dont drink milk?\n",
    "\n",
    " Use a two-sample t-test to determine if there is a significant difference \n",
    " in height between adults who drink milk and those who do not. The null hypothesis would be that\n",
    " there is no significant difference in height, and the alternative hypothesis would be that there\n",
    " is a significant difference. We would need to gather data on the heights of adults who drink milk \n",
    " and those who do not, and then conduct the t-test to determine if there is a significant difference."
   ]
  },
  {
   "attachments": {},
   "cell_type": "markdown",
   "metadata": {},
   "source": [
    " Is the the price of gas higher in texas or in new mexico?\n",
    "\n",
    " Use a two-sample t-test to determine if there is a significant difference in the price of gas between Texas and New Mexico. The null hypothesis would be that there is no significant difference in gas prices, and the alternative hypothesis would be that there is a significant difference. After collecting data on gas prices in both states, we can use the t-test to determine if there is a significant difference between the two states."
   ]
  },
  {
   "attachments": {},
   "cell_type": "markdown",
   "metadata": {},
   "source": [
    "Are there differences in stress levels between students who take data science vs students who\n",
    "take web development vs students who take cloud academy?\n",
    "\n",
    "Use an ANOVA test (Analysis of Variance) to determine if there is a significant difference in stress levels between the groups. The null hypothesis would be that there is no significant difference in stress levels between the groups, and the alternative hypothesis would be that there is a significant difference. \n",
    "\n",
    "If the ANOVA test indicates a significant difference, we can then conduct post-hoc tests to determine which groups have significant differences in stress levels."
   ]
  },
  {
   "attachments": {},
   "cell_type": "markdown",
   "metadata": {},
   "source": [
    "Ace Realty wants to determine whether the average time it takes to sell homes is different for its two offices.\n",
    "A sample of 40 sales from office #1 revealed a mean of 90 days and a standard deviation of 15 days. \n",
    "A sample of 50 sales from office #2 revealed a mean of 100 days and a standard deviation of 20 days. \n",
    "Use a .05 level of significance.\n",
    "\n",
    "Use a two-sample t-test. \n",
    "\n",
    "The null hypothesis is that there is no significant difference in the average time it takes to sell homes between office #1 and office #2. The alternative hypothesis is that there is a significant difference.\n",
    "\n",
    "We can calculate the test statistic using the formula:\n",
    "\n",
    "t = (x1 - x2) / sqrt((s1^2/n1) + (s2^2/n2))\n",
    "\n",
    "where:\n",
    "x1 = 90 (mean time to sell for office #1)\n",
    "x2 = 100 (mean time to sell for office #2)\n",
    "s1 = 15 (standard deviation of time to sell for office #1)\n",
    "s2 = 20 (standard deviation of time to sell for office #2)\n",
    "n1 = 40 (sample size for office #1)\n",
    "n2 = 50 (sample size for office #2)\n",
    "\n",
    "Plugging in these values, we get:\n",
    "\n",
    "t = (90 - 100) / sqrt((15^2/40) + (20^2/50)) = -2.52\n",
    "\n",
    "The degrees of freedom for this test are (n1 + n2 - 2) = (40 + 50 - 2) = 88.\n",
    "\n",
    "Using a t-distribution table with 88 degrees of freedom and a significance level of .05 (two-tailed), the critical t-value is ±1.990.\n",
    "\n",
    "Since our calculated t-value (-2.52) is outside the critical t-value range (-1.990 to 1.990), we reject the null hypothesis and conclude that there is a significant difference in the average time it takes to sell homes between office #1 and office #2."
   ]
  },
  {
   "attachments": {},
   "cell_type": "markdown",
   "metadata": {},
   "source": [
    "Load the mpg dataset and use it to answer the following questions:\n"
   ]
  },
  {
   "cell_type": "code",
   "execution_count": 45,
   "metadata": {},
   "outputs": [
    {
     "data": {
      "text/html": [
       "<div>\n",
       "<style scoped>\n",
       "    .dataframe tbody tr th:only-of-type {\n",
       "        vertical-align: middle;\n",
       "    }\n",
       "\n",
       "    .dataframe tbody tr th {\n",
       "        vertical-align: top;\n",
       "    }\n",
       "\n",
       "    .dataframe thead th {\n",
       "        text-align: right;\n",
       "    }\n",
       "</style>\n",
       "<table border=\"1\" class=\"dataframe\">\n",
       "  <thead>\n",
       "    <tr style=\"text-align: right;\">\n",
       "      <th></th>\n",
       "      <th>manufacturer</th>\n",
       "      <th>model</th>\n",
       "      <th>displ</th>\n",
       "      <th>year</th>\n",
       "      <th>cyl</th>\n",
       "      <th>trans</th>\n",
       "      <th>drv</th>\n",
       "      <th>cty</th>\n",
       "      <th>hwy</th>\n",
       "      <th>fl</th>\n",
       "      <th>class</th>\n",
       "    </tr>\n",
       "  </thead>\n",
       "  <tbody>\n",
       "    <tr>\n",
       "      <th>1</th>\n",
       "      <td>audi</td>\n",
       "      <td>a4</td>\n",
       "      <td>1.8</td>\n",
       "      <td>1999</td>\n",
       "      <td>4</td>\n",
       "      <td>auto(l5)</td>\n",
       "      <td>f</td>\n",
       "      <td>18</td>\n",
       "      <td>29</td>\n",
       "      <td>p</td>\n",
       "      <td>compact</td>\n",
       "    </tr>\n",
       "    <tr>\n",
       "      <th>2</th>\n",
       "      <td>audi</td>\n",
       "      <td>a4</td>\n",
       "      <td>1.8</td>\n",
       "      <td>1999</td>\n",
       "      <td>4</td>\n",
       "      <td>manual(m5)</td>\n",
       "      <td>f</td>\n",
       "      <td>21</td>\n",
       "      <td>29</td>\n",
       "      <td>p</td>\n",
       "      <td>compact</td>\n",
       "    </tr>\n",
       "    <tr>\n",
       "      <th>3</th>\n",
       "      <td>audi</td>\n",
       "      <td>a4</td>\n",
       "      <td>2.0</td>\n",
       "      <td>2008</td>\n",
       "      <td>4</td>\n",
       "      <td>manual(m6)</td>\n",
       "      <td>f</td>\n",
       "      <td>20</td>\n",
       "      <td>31</td>\n",
       "      <td>p</td>\n",
       "      <td>compact</td>\n",
       "    </tr>\n",
       "    <tr>\n",
       "      <th>4</th>\n",
       "      <td>audi</td>\n",
       "      <td>a4</td>\n",
       "      <td>2.0</td>\n",
       "      <td>2008</td>\n",
       "      <td>4</td>\n",
       "      <td>auto(av)</td>\n",
       "      <td>f</td>\n",
       "      <td>21</td>\n",
       "      <td>30</td>\n",
       "      <td>p</td>\n",
       "      <td>compact</td>\n",
       "    </tr>\n",
       "    <tr>\n",
       "      <th>5</th>\n",
       "      <td>audi</td>\n",
       "      <td>a4</td>\n",
       "      <td>2.8</td>\n",
       "      <td>1999</td>\n",
       "      <td>6</td>\n",
       "      <td>auto(l5)</td>\n",
       "      <td>f</td>\n",
       "      <td>16</td>\n",
       "      <td>26</td>\n",
       "      <td>p</td>\n",
       "      <td>compact</td>\n",
       "    </tr>\n",
       "  </tbody>\n",
       "</table>\n",
       "</div>"
      ],
      "text/plain": [
       "  manufacturer model  displ  year  cyl       trans drv  cty  hwy fl    class\n",
       "1         audi    a4    1.8  1999    4    auto(l5)   f   18   29  p  compact\n",
       "2         audi    a4    1.8  1999    4  manual(m5)   f   21   29  p  compact\n",
       "3         audi    a4    2.0  2008    4  manual(m6)   f   20   31  p  compact\n",
       "4         audi    a4    2.0  2008    4    auto(av)   f   21   30  p  compact\n",
       "5         audi    a4    2.8  1999    6    auto(l5)   f   16   26  p  compact"
      ]
     },
     "execution_count": 45,
     "metadata": {},
     "output_type": "execute_result"
    }
   ],
   "source": [
    "# Is there a difference in fuel-efficiency in cars from 2008 vs 1999?\n",
    "\n",
    "# Import pandas and scipy.stats libraries\n",
    "from pydataset import data\n",
    "mpg = data('mpg')\n",
    "mpg.head()"
   ]
  },
  {
   "cell_type": "code",
   "execution_count": 46,
   "metadata": {},
   "outputs": [
    {
     "name": "stdout",
     "output_type": "stream",
     "text": [
      "t-value: -0.03286431672888292\n",
      "p-value: 0.9738110448529322\n"
     ]
    }
   ],
   "source": [
    "# Import necessary libraries\n",
    "from scipy.stats import ttest_ind\n",
    "\n",
    "# Create two subsets for cars made in 1999 and 2008\n",
    "mpg_1999 = mpg[mpg['year'] == 1999]\n",
    "mpg_2008 = mpg[mpg['year'] == 2008]\n",
    "\n",
    "# Check the number of observations in the subsets\n",
    "if len(mpg_1999) < 2 or len(mpg_2008) < 2:\n",
    "    print(\"Not enough data to conduct t-test\")\n",
    "else:\n",
    "    # Conduct two-sample t-test\n",
    "    t, p = ttest_ind(mpg_1999['hwy'], mpg_2008['hwy'])\n",
    "\n",
    "    # Print results\n",
    "    print(\"t-value:\", t)\n",
    "    print(\"p-value:\", p)\n",
    "    \n",
    "# The p-value is 0.9738, which is greater than 0.05. \n",
    "# Therefore, we cannot reject the null hypothesis that there is no difference in fuel efficiency \n",
    "# between cars made in 1999 and cars made in 2008. We can conclude that there is not enough evidence \n",
    "# to support a difference in fuel efficiency between the two groups."
   ]
  },
  {
   "cell_type": "code",
   "execution_count": 48,
   "metadata": {},
   "outputs": [
    {
     "name": "stdout",
     "output_type": "stream",
     "text": [
      "Compact cars are more fuel-efficient than the average car\n"
     ]
    }
   ],
   "source": [
    "# Are compact cars more fuel-efficient than the average car?\n",
    "\n",
    "# 1. Calculate the mean fuel efficiency (mpg) of all the cars in the `mpg` dataframe.\n",
    "# 2. Create a subset of the `mpg` dataframe that includes only the compact cars.\n",
    "# 3. Calculate the mean fuel efficiency of the compact cars subset.\n",
    "# 4. Compare the mean fuel efficiency of compact cars to the mean fuel efficiency of all cars using a one-sample t-test.\n",
    "\n",
    "\n",
    "# Import necessary libraries\n",
    "from scipy.stats import ttest_1samp\n",
    "\n",
    "# Calculate the mean fuel efficiency of all cars\n",
    "mean_mpg_all = mpg['hwy'].mean()\n",
    "\n",
    "# Create a subset for compact cars\n",
    "compact_cars = mpg[mpg['class'] == 'compact']\n",
    "\n",
    "# Calculate the mean fuel efficiency of compact cars\n",
    "mean_mpg_compact = compact_cars['hwy'].mean()\n",
    "\n",
    "# Conduct one-sample t-test\n",
    "t, p = ttest_1samp(compact_cars['hwy'], mean_mpg_all)\n",
    "\n",
    "# Print results\n",
    "if p < 0.05:\n",
    "    print(\"Compact cars are more fuel-efficient than the average car\")\n",
    "else:\n",
    "    print(\"Compact cars are not more fuel-efficient than the average car\")\n"
   ]
  },
  {
   "cell_type": "code",
   "execution_count": 49,
   "metadata": {},
   "outputs": [
    {
     "name": "stdout",
     "output_type": "stream",
     "text": [
      "Manual cars get better gas mileage than automatic cars\n"
     ]
    }
   ],
   "source": [
    "# Do manual cars get better gas mileage than automatic cars?\n",
    "\n",
    "# 1. Create two subsets of the `mpg` dataframe, one for manual cars and one for automatic cars.\n",
    "# 2. Calculate the mean fuel efficiency of the manual cars subset.\n",
    "# 3. Calculate the mean fuel efficiency of the automatic cars subset.\n",
    "# 4. Compare the mean fuel efficiency of manual cars to the mean fuel efficiency of automatic cars using a two-sample t-test.\n",
    "\n",
    "\n",
    "# Import necessary libraries\n",
    "from scipy.stats import ttest_ind\n",
    "\n",
    "# Create subsets for manual and automatic cars\n",
    "manual_cars = mpg[mpg['trans'].str.startswith('manual')]\n",
    "auto_cars = mpg[mpg['trans'].str.startswith('auto')]\n",
    "\n",
    "# Check the number of observations in each subset\n",
    "if len(manual_cars) < 2 or len(auto_cars) < 2:\n",
    "    print(\"Not enough data to conduct t-test\")\n",
    "else:\n",
    "    # Calculate the mean fuel efficiency of each subset\n",
    "    mean_mpg_manual = manual_cars['hwy'].mean()\n",
    "    mean_mpg_auto = auto_cars['hwy'].mean()\n",
    "\n",
    "    # Conduct two-sample t-test\n",
    "    t, p = ttest_ind(manual_cars['hwy'], auto_cars['hwy'])\n",
    "\n",
    "    # Print results\n",
    "    if p < 0.05:\n",
    "        print(\"Manual cars get better gas mileage than automatic cars\")\n",
    "    else:\n",
    "        print(\"Manual cars do not get better gas mileage than automatic cars\")\n",
    "\n",
    "\n"
   ]
  }
 ],
 "metadata": {
  "kernelspec": {
   "display_name": "base",
   "language": "python",
   "name": "python3"
  },
  "language_info": {
   "codemirror_mode": {
    "name": "ipython",
    "version": 3
   },
   "file_extension": ".py",
   "mimetype": "text/x-python",
   "name": "python",
   "nbconvert_exporter": "python",
   "pygments_lexer": "ipython3",
   "version": "3.9.13"
  },
  "orig_nbformat": 4
 },
 "nbformat": 4,
 "nbformat_minor": 2
}
