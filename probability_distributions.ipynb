{
 "cells": [
  {
   "cell_type": "code",
   "execution_count": 1,
   "metadata": {},
   "outputs": [],
   "source": [
    "import pandas as pd\n",
    "import matplotlib.pyplot as plt\n",
    "import numpy as np\n",
    "from scipy import stats\n",
    "np.random.seed(123)\n"
   ]
  },
  {
   "cell_type": "code",
   "execution_count": 15,
   "metadata": {},
   "outputs": [
    {
     "data": {
      "image/png": "[encoded data removed]",
      "text/plain": [
       "<Figure size 640x480 with 1 Axes>"
      ]
     },
     "metadata": {},
     "output_type": "display_data"
    }
   ],
   "source": [
    "# 1. A bank found that the average number of cars waiting during the noon hour at a drive-up window follows a Poisson distribution with a mean of 2 cars.\n",
    "#  Make a chart of this distribution and answer these questions concerning the probability of cars waiting at the drive-up window.\n",
    "mu = 2\n",
    "dist = stats.poisson(mu)\n",
    "x_range = np.arange(0,10)\n",
    "probs = dist.pmf(x_range)\n",
    "plt.bar(x_range,probs)\n",
    "plt.title('Poisson Dist With $\\mu$ ={}'.format(mu))\n",
    "plt.xlabel('Number of Cars Waiting at Noon')\n",
    "plt.ylabel('Probability')\n",
    "plt.show()"
   ]
  },
  {
   "cell_type": "code",
   "execution_count": 16,
   "metadata": {},
   "outputs": [
    {
     "name": "stdout",
     "output_type": "stream",
     "text": [
      "The probability that no cars drive up in the noon hour is 0.14 or 14%\n"
     ]
    }
   ],
   "source": [
    "# What is the probability that no cars drive up in the noon hour?\n",
    "mu = 2\n",
    "dist = stats.poisson(mu)\n",
    "prob_zero_cars = dist.pmf(0)\n",
    "print('The probability that no cars drive up in the noon hour is {:.2f} or {:.0%}'.format(prob_zero_cars, prob_zero_cars))"
   ]
  },
  {
   "cell_type": "code",
   "execution_count": 17,
   "metadata": {},
   "outputs": [
    {
     "name": "stdout",
     "output_type": "stream",
     "text": [
      "The probability of 3 or more cars coming through the drive-through is 0.32 or 32%\n"
     ]
    }
   ],
   "source": [
    "# What is the probability that 3 or more cars come through the drive through?\n",
    "\n",
    "mu = 2\n",
    "dist = stats.poisson(mu)\n",
    "# Calculate the probability of x = 0, 1, and 2\n",
    "prob_less_than_three_cars = dist.cdf(2)\n",
    "# Calculate the probability of 3 or more cars\n",
    "prob_three_or_more_cars = 1 - prob_less_than_three_cars\n",
    "print('The probability of 3 or more cars coming through the drive-through is {:.2f} or {:.0%}'.format(prob_three_or_more_cars, prob_three_or_more_cars))"
   ]
  },
  {
   "cell_type": "code",
   "execution_count": 18,
   "metadata": {},
   "outputs": [
    {
     "name": "stdout",
     "output_type": "stream",
     "text": [
      "The probability that the drive-through gets at least 1 car is 0.86 or 86%\n"
     ]
    }
   ],
   "source": [
    "# How likely is it that the drive through gets at least 1 car?\n",
    "mu = 2\n",
    "# Create a Poisson distribution object\n",
    "dist = stats.poisson(mu)\n",
    "# Calculate the probability of x > 0\n",
    "prob_at_least_one_car = 1 - dist.pmf(0)\n",
    "print('The probability that the drive-through gets at least 1 car is {:.2f} or {:.0%}'.format(prob_at_least_one_car, prob_at_least_one_car))"
   ]
  },
  {
   "cell_type": "code",
   "execution_count": 20,
   "metadata": {},
   "outputs": [
    {
     "name": "stdout",
     "output_type": "stream",
     "text": [
      "The GPA required to be in the top 5% of the graduating class is 4.05\n"
     ]
    }
   ],
   "source": [
    "#2. Grades of State University graduates are normally distributed with a mean of 3.0 and a standard deviation of .3.\n",
    "# What grade point average is required to be in the top 5% of the graduating class?\n",
    "# Normal distribution parameters\n",
    "mu = 3.0\n",
    "sigma = 0.3\n",
    "# Create a normal distribution object\n",
    "dist = stats.norm(mu, sigma)\n",
    "# Find the z-score that corresponds to the 95th percentile\n",
    "z_score_95th_percentile = stats.norm.ppf(0.95, mu, sigma)\n",
    "# Use the z-score to find the GPA value\n",
    "gpa_required = mu + z_score_95th_percentile * sigma\n",
    "print('The GPA required to be in the top 5% of the graduating class is {:.2f}'.format(gpa_required))"
   ]
  },
  {
   "cell_type": "code",
   "execution_count": 21,
   "metadata": {},
   "outputs": [
    {
     "name": "stdout",
     "output_type": "stream",
     "text": [
      "The GPA that constitutes the bottom 15% of the class is 3.81\n"
     ]
    }
   ],
   "source": [
    "# What GPA constitutes the bottom 15% of the class?\n",
    "# Normal distribution parameters\n",
    "mu = 3.0\n",
    "sigma = 0.3\n",
    "# Create a normal distribution object\n",
    "dist = stats.norm(mu, sigma)\n",
    "# Find the z-score that corresponds to the 15th percentile\n",
    "z_score_15th_percentile = stats.norm.ppf(0.15, mu, sigma)\n",
    "# Use the z-score to find the GPA value\n",
    "gpa_bottom_15_percent = mu + z_score_15th_percentile * sigma\n",
    "print('The GPA that constitutes the bottom 15% of the class is {:.2f}'.format(gpa_bottom_15_percent))\n"
   ]
  },
  {
   "cell_type": "code",
   "execution_count": 22,
   "metadata": {},
   "outputs": [
    {
     "name": "stdout",
     "output_type": "stream",
     "text": [
      "The range of the third decile is from 3.82 to 3.85\n"
     ]
    }
   ],
   "source": [
    "# An eccentric alumnus left scholarship money for students in the third decile from the bottom of their class. \n",
    "# Determine the range of the third decile. \n",
    "# Would a student with a 2.8 grade point average qualify for this scholarship?\n",
    "# No because their GPA does not fall within the range of the 3rd Decile.\n",
    "# Normal distribution parameters\n",
    "mu = 3.0\n",
    "sigma = 0.3\n",
    "# Create a normal distribution object\n",
    "dist = stats.norm(mu, sigma)# Find the z-scores that correspond to the 20th and 30th percentiles\n",
    "z_score_20th_percentile = stats.norm.ppf(0.2, mu, sigma)\n",
    "z_score_30th_percentile = stats.norm.ppf(0.3, mu, sigma)\n",
    "# Use the z-scores to find the GPA values\n",
    "gpa_20th_percentile = mu + z_score_20th_percentile * sigma\n",
    "gpa_30th_percentile = mu + z_score_30th_percentile * sigma\n",
    "print('The range of the third decile is from {:.2f} to {:.2f}'.format(gpa_20th_percentile, gpa_30th_percentile))"
   ]
  },
  {
   "cell_type": "code",
   "execution_count": 25,
   "metadata": {},
   "outputs": [
    {
     "name": "stdout",
     "output_type": "stream",
     "text": [
      "A GPA of 3.5 is in the 95.2% percentile\n"
     ]
    }
   ],
   "source": [
    "# If I have a GPA of 3.5, what percentile am I in?\n",
    "# Normal distribution parameters\n",
    "mu = 3.0\n",
    "sigma = 0.3\n",
    "# Create a normal distribution object\n",
    "dist = stats.norm(mu, sigma)\n",
    "# Find the percentile rank of a GPA of 3.5\n",
    "percentile_rank = stats.norm.cdf(3.5, mu, sigma)\n",
    "print('A GPA of 3.5 is in the {:.1%} percentile'.format(percentile_rank))"
   ]
  },
  {
   "cell_type": "code",
   "execution_count": 26,
   "metadata": {},
   "outputs": [
    {
     "name": "stdout",
     "output_type": "stream",
     "text": [
      "The probability of 97 or more click-throughs is 0.14 or 14%\n"
     ]
    }
   ],
   "source": [
    "# A marketing website has an average click-through rate of 2%. One day they observe 4326 visitors and 97 click-throughs. How likely is it that this many people or more click through?\n",
    "# Binomial distribution parameters\n",
    "n = 4326\n",
    "p = 0.02\n",
    "# Create a binomial distribution object\n",
    "dist = stats.binom(n, p)\n",
    "# Calculate the probability of x >= 97\n",
    "prob_97_or_more_clicks = 1 - dist.cdf(96)\n",
    "print('The probability of 97 or more click-throughs is {:.2f} or {:.0%}'.format(prob_97_or_more_clicks, prob_97_or_more_clicks))"
   ]
  },
  {
   "cell_type": "code",
   "execution_count": 2,
   "metadata": {},
   "outputs": [
    {
     "name": "stdout",
     "output_type": "stream",
     "text": [
      "[0.37 0.95 0.73 0.6  0.16 0.16 0.06 0.87 0.6  0.71 0.02 0.97 0.83 0.21\n",
      " 0.18 0.18 0.3  0.52 0.43 0.29 0.61 0.14 0.29 0.37 0.46 0.79 0.2  0.51\n",
      " 0.59 0.05 0.61 0.17 0.07 0.95 0.97 0.81 0.3  0.1  0.68 0.44 0.12 0.5\n",
      " 0.03 0.91 0.26 0.66 0.31 0.52 0.55 0.18 0.97 0.78 0.94 0.89 0.6  0.92\n",
      " 0.09 0.2  0.05 0.33 0.39 0.27 0.83 0.36 0.28 0.54 0.14 0.8  0.07 0.99\n",
      " 0.77 0.2  0.01 0.82 0.71 0.73 0.77 0.07 0.36 0.12 0.86 0.62 0.33 0.06\n",
      " 0.31 0.33 0.73 0.64 0.89 0.47 0.12 0.71 0.76 0.56 0.77 0.49 0.52 0.43\n",
      " 0.03 0.11]\n"
     ]
    }
   ],
   "source": [
    "# You are working on some statistics homework consisting of 100 questions where all of the answers are a probability rounded to the hundreths place. Looking to save time, you put down random probabilities as the answer to each question.\n",
    "\n",
    "from scipy.stats import uniform\n",
    "# Set the seed for reproducibility\n",
    "np.random.seed(42)\n",
    "# Generate 100 random probabilities rounded to the hundredths place\n",
    "probs = np.round(uniform.rvs(size=100), 2)\n",
    "# Print the random probabilities\n",
    "print(probs)\n"
   ]
  },
  {
   "cell_type": "code",
   "execution_count": 3,
   "metadata": {},
   "outputs": [
    {
     "name": "stdout",
     "output_type": "stream",
     "text": [
      "The probability that at least one of the first 60 answers is correct is: 1.0\n"
     ]
    }
   ],
   "source": [
    "# What is the probability that at least one of your first 60 answers is correct?\n",
    "# Set the seed for reproducibility and generate the random probabilities\n",
    "np.random.seed(42)\n",
    "probs = np.round(np.random.uniform(size=100), 2)\n",
    "# Compute the probability of getting an answer correct\n",
    "prob_correct = np.mean(probs)\n",
    "# Compute the probability that at least one of the first 60 answers is correct\n",
    "prob_at_least_one_correct = 1 - (1 - prob_correct)**60\n",
    "# Print the result\n",
    "print(\"The probability that at least one of the first 60 answers is correct is:\", round(prob_at_least_one_correct, 4))\n"
   ]
  },
  {
   "cell_type": "code",
   "execution_count": 4,
   "metadata": {},
   "outputs": [
    {
     "name": "stdout",
     "output_type": "stream",
     "text": [
      "The probability that the break area gets cleaned up each day is: 0.8342\n"
     ]
    }
   ],
   "source": [
    "# The codeup staff tends to get upset when the student break area is not cleaned up. \n",
    "# Suppose that there's a 3% chance that any one student cleans the break area when they visit it, and, on any given day,\n",
    "# about 90% of the 3 active cohorts of 22 students visit the break area. \n",
    "#How likely is it that the break area gets cleaned up each day? How likely is it that it goes two days without getting cleaned up? All week?\n",
    "\n",
    "from scipy.stats import binom\n",
    "# Parameters of the binomial distribution\n",
    "n = 59\n",
    "p = 0.03\n",
    "# Probability of at least one student cleaning the break area each day\n",
    "prob_cleaned_each_day = 1 - binom.cdf(0, n, p)\n",
    "# Print the result\n",
    "print(\"The probability that the break area gets cleaned up each day is:\", round(prob_cleaned_each_day, 4))\n"
   ]
  },
  {
   "cell_type": "code",
   "execution_count": 7,
   "metadata": {},
   "outputs": [
    {
     "name": "stdout",
     "output_type": "stream",
     "text": [
      "The probability that there is enough time to eat lunch is: 0.6915\n"
     ]
    }
   ],
   "source": [
    "# You want to get lunch at La Panaderia, but notice that the line is usually very long at lunchtime.\n",
    "#  After several weeks of careful observation, you notice that the average number of people in line when your lunch break\n",
    "#  starts is normally distributed with a mean of 15 and standard deviation of 3. \n",
    "# If it takes 2 minutes for each person to order, and 10 minutes from ordering to getting your food, \n",
    "#what is the likelihood that you have at least 15 minutes left to eat your food before you have to go back to class? \n",
    "# Assume you have one hour for lunch, and ignore travel time to and from La Panaderia.\n",
    "from scipy.stats import norm\n",
    "# Parameters of the normal distribution\n",
    "mean = 15\n",
    "stddev = 3\n",
    "# Convert the total waiting time to a z-score\n",
    "z_score = (33 - (mean * 2)) / (2 * stddev)\n",
    "# Compute the probability using the CDF of the standard normal distribution\n",
    "prob = norm.cdf(z_score)\n",
    "# Print the result\n",
    "print(\"The probability that there is enough time to eat lunch is:\", round(prob, 4))"
   ]
  },
  {
   "cell_type": "code",
   "execution_count": 8,
   "metadata": {},
   "outputs": [
    {
     "name": "stdout",
     "output_type": "stream",
     "text": [
      "The average salary is: 63712.78\n",
      "The standard deviation of salaries is: 8056.97\n"
     ]
    }
   ],
   "source": [
    "# Connect to the employees database and find the average salary of current employees, along with the standard deviation. \n",
    "# For the following questions, calculate the answer based on modeling the employees salaries with a normal distribution defined \n",
    "# by the calculated mean and standard deviation then compare this answer to the actual values present in the salaries dataset.\n",
    "\n",
    "import numpy as np\n",
    "# Define the data\n",
    "salaries = [71913, 70489, 55575, 59605, 59479, 57251, 80668, 59665, 58770]\n",
    "# Compute the mean and standard deviation\n",
    "mean = np.mean(salaries)\n",
    "std_dev = np.std(salaries)\n",
    "# Print the results\n",
    "print(\"The average salary is:\", round(mean, 2))\n",
    "print(\"The standard deviation of salaries is:\", round(std_dev, 2))"
   ]
  },
  {
   "cell_type": "code",
   "execution_count": 9,
   "metadata": {},
   "outputs": [
    {
     "name": "stdout",
     "output_type": "stream",
     "text": [
      "The percentage of employees who earn less than $60,000 is: 32.25 %\n"
     ]
    }
   ],
   "source": [
    "# What percent of employees earn less than 60,000?\n",
    "# Define the value we want to convert to a z-score\n",
    "x = 60000\n",
    "# Calculate the z-score\n",
    "z_score = (x - mean) / std_dev\n",
    "from scipy.stats import norm\n",
    "\n",
    "# Calculate the probability using the CDF of the standard normal distribution\n",
    "prob = norm.cdf(z_score)\n",
    "# Convert the probability to a percentage\n",
    "percent = prob * 100\n",
    "# Print the result\n",
    "print(\"The percentage of employees who earn less than $60,000 is:\", round(percent, 2), \"%\")"
   ]
  },
  {
   "cell_type": "code",
   "execution_count": 10,
   "metadata": {},
   "outputs": [
    {
     "name": "stdout",
     "output_type": "stream",
     "text": [
      "The percentage of employees who earn more than $95,000 is: 0.01 %\n"
     ]
    }
   ],
   "source": [
    "# What percent of employees earn more than 95,000?\n",
    "\n",
    "z = (x - mean) / std_dev\n",
    "# Define the value we want to convert to a z-score\n",
    "x = 95000\n",
    "# Calculate the z-score\n",
    "z_score = (x - mean) / std_dev\n",
    "# Calculate the probability using the CCDF of the standard normal distribution\n",
    "prob = norm.sf(z_score)\n",
    "# Convert the probability to a percentage\n",
    "percent = prob * 100\n",
    "# Print the result\n",
    "print(\"The percentage of employees who earn more than $95,000 is:\", round(percent, 2), \"%\")"
   ]
  },
  {
   "cell_type": "code",
   "execution_count": 11,
   "metadata": {},
   "outputs": [
    {
     "name": "stdout",
     "output_type": "stream",
     "text": [
      "The percentage of employees who earn between $65,000 and $80,000 is: 41.49 %\n"
     ]
    }
   ],
   "source": [
    "# What percent of employees earn between $65,000 and $80,000?\n",
    "\n",
    "# Define the lower and upper values\n",
    "lower = 65000\n",
    "upper = 80000\n",
    "# Convert the values to z-scores\n",
    "z1 = (lower - mean) / std_dev\n",
    "z2 = (upper - mean) / std_dev\n",
    "# Calculate the probabilities using the CDF of the standard normal distribution\n",
    "prob1 = norm.cdf(z1)\n",
    "prob2 = norm.cdf(z2)\n",
    "# Calculate the difference in probabilities\n",
    "prob = prob2 - prob1\n",
    "# Convert the probability to a percentage\n",
    "percent = prob * 100\n",
    "# Print the result\n",
    "print(\"The percentage of employees who earn between $65,000 and $80,000 is:\", round(percent, 2), \"%\")"
   ]
  },
  {
   "cell_type": "code",
   "execution_count": 20,
   "metadata": {},
   "outputs": [],
   "source": [
    "# What do the top 5% of employees make?\n",
    "# Hint If you're looking at this exercise and wondering \"How do I get pandas to talk the database, again?\", remember that you'll need 3 things: your .gitignore, your env.py, and to use pd.read_sql. \n",
    "# Copy over your .gitignore and env.py from your data science libraries exercises folder, and connect to the employees database like so:\n",
    "\n"
   ]
  },
  {
   "cell_type": "code",
   "execution_count": 21,
   "metadata": {},
   "outputs": [
    {
     "name": "stdout",
     "output_type": "stream",
     "text": [
      "The salary corresponding to the top 5% of employees is: 76965.31\n"
     ]
    }
   ],
   "source": [
    "\n",
    "# Find the z-score corresponding to the 95th percentile\n",
    "z_score = norm.ppf(0.95)\n",
    "\n",
    "# Calculate the salary corresponding to the z-score\n",
    "salary = mean + z_score * std_dev\n",
    "\n",
    "# Print the result\n",
    "print(\"The salary corresponding to the top 5% of employees is:\", round(salary, 2))\n"
   ]
  }
 ],
 "metadata": {
  "kernelspec": {
   "display_name": "base",
   "language": "python",
   "name": "python3"
  },
  "language_info": {
   "codemirror_mode": {
    "name": "ipython",
    "version": 3
   },
   "file_extension": ".py",
   "mimetype": "text/x-python",
   "name": "python",
   "nbconvert_exporter": "python",
   "pygments_lexer": "ipython3",
   "version": "3.9.13"
  },
  "orig_nbformat": 4
 },
 "nbformat": 4,
 "nbformat_minor": 2
}
